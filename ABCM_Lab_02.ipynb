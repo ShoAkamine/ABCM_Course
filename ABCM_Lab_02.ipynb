{
 "cells": [
  {
   "cell_type": "markdown",
   "id": "5257d644",
   "metadata": {},
   "source": [
    "# ABCM Computer lab 2: Communication & Theory of mind"
   ]
  },
  {
   "cell_type": "markdown",
   "id": "c7ffa873",
   "metadata": {},
   "source": [
    "In this computer lab, we will not work with code directly, but instead will use an online simulation tool that implements the agent-based model from this week's assigned reading: \n",
    "de Weerd, H., Verbrugge, R., & Verheij, B. (2015). Higher-order theory of mind in the Tacit Communication Game. Biologically Inspired Cognitive Architectures, 11, 10–21. https://doi.org/10.1016/j.bica.2014.11.010\n",
    "\n",
    "You can find the online simulation tool, together with an explanation of how it works, here:\n",
    "[http://www.harmendeweerd.nl/tacit-communication-game/](http://www.harmendeweerd.nl/tacit-communication-game/)\n",
    "\n",
    "This online simulation tool is written by the first author of de Weerd et al. (2015), in JavaScript.\n",
    "\n",
    "If you're curious, you can inspect the underlying code by opening it in the browser. To do that, first click the [open script in separate tab](http://www.harmendeweerd.nl/scripts/tcg_script.html) link. Then, depending on your browser, go to:\n",
    "- **Google Chrome:** View --> Developer --> Developer tools --> Select \"Sources\" tab --> Now you can open, for example, \"tcg_agent.js\"\n",
    "- **Firefox:** Tools --> Browser Tools --> Web Developer Tools --> Select \"Debugger\" tab --> Main Thread --> www.harmendeweerd.nl --> scripts --> Now you can open, for example, \"tcg_agent.js\"\n",
    "- **Microsoft Edge:** Click 3 horizontal dots (\"Settings and more\") --> More tools --> Developer tools --> Select \"Sources\" tab --> Now you can open, for example, \"tcg_agent.js\""
   ]
  },
  {
   "cell_type": "markdown",
   "id": "966a77f1",
   "metadata": {},
   "source": [
    "## Read explanation on simulation tool webpage\n",
    "\n",
    "Start by reading the explanation provided on the webpage: [http://www.harmendeweerd.nl/tacit-communication-game/](http://www.harmendeweerd.nl/tacit-communication-game/)"
   ]
  },
  {
   "cell_type": "markdown",
   "id": "03e1a441",
   "metadata": {},
   "source": [
    "## Some more explanation \n",
    "\n",
    "Below, I provide some extra information about what the simulation tool shows.\n"
   ]
  },
  {
   "cell_type": "markdown",
   "id": "a9f6eb96",
   "metadata": {},
   "source": [
    "### Before any message is sent\n",
    "\n",
    "Assuming you have both the \"Sender\" and \"Receiver\" boxes ticked, you can view the Sender's beliefs about relevant possible messages for the current trial on the left, and the Receiver's beliefs about relevant possible messages for the current trial on the right.\n",
    "\n",
    "For both agents, possible messages are shown on the right (as a blue path from the Sender's starting location to the Sender's goal location). To the right of each message, the Sender's beliefs about how that message would be interpreted are shown for each ToM-order (0-order, 1st-order, and 2nd-order). In the example below, you can see that the 0-order and 1st-order ToM sender have no particular beliefs about how either of the messages would be interpreted: each of the possible goal locations for the receiver has an orange circle in it, indicating that the Sender believes it's a possible interpretation by the Receiver.\n",
    "Only the 2nd-order Sender has more particular beliefs about the two possible messages:\n",
    "- The 2nd-order Sender believes that the top message could be interpreted in two different ways by the Receiver, because the Sender makes a detour through two different locations that could indicate that that's the Receiver's goal location\n",
    "- The 2nd-order Sender believes that the bottom message can only be interpreted in one way by the Receiver, because it only makes a detour through one specific location\n",
    "\n",
    "![step_1](Step_1_before_sending_message.jpeg)"
   ]
  },
  {
   "cell_type": "markdown",
   "id": "835bf7b9",
   "metadata": {},
   "source": [
    "### After a message was sent\n",
    "\n",
    "Below, you can see how things change when a message has been sent (but before the receiver has made their move).\n",
    "\n",
    "![step_2](Step_2_after_sending_message.jpeg)"
   ]
  },
  {
   "cell_type": "markdown",
   "id": "25c38bf1",
   "metadata": {},
   "source": [
    "### After the receiver has made their guess\n",
    "\n",
    "Below, you can see how things get updated once the receiver has made their move (including the feedback that the two agents get: In this case, the communication was successful).\n",
    "\n",
    "![step_3](Step_3_after_receiver_move.jpeg)"
   ]
  },
  {
   "cell_type": "markdown",
   "id": "48639a0d",
   "metadata": {},
   "source": [
    "**Exercise 1:**\n",
    "\n",
    "Select the following settings:\n",
    "- Sender Theory of mind: Zero-order\n",
    "- Receiver Theory of mind: First-order\n",
    "- Sender prefers messages that: are short\n",
    "\n",
    "You can run a simulation by clicking the \"Start\" button, and then clicking the \"Stop\" button when the condition you're interested in is met. If you need a bit of time to check whether your condition of interest has been met, you can also just press the \"Stop\" button in order to pause the simulation. If you then want it to resume the simulation, you can simply press the \"Start\" button again, and it will continue where it left off.\n",
    "\n",
    "Play through a number of games (20 is usually enough), until you find that all the following conditions are met:\n",
    "\n",
    "There is a message (visible on both the Sender's and the Receiver's side) for which the following agents have the same beliefs about how the Receiver should interpret that message:\n",
    "- The Zero-order Sender and First-order Receiver share the same belief\n",
    "- The First-order Sender and Zero-order Receiver share the same belief\n",
    "- And those two beliefs are each other's mirror image\n",
    "\n",
    "Pay attention to what happens in the simulation to help you answer the question below.\n",
    "\n",
    "When you've found that this condition has been met for one of the possible messages, explain why this is the case."
   ]
  },
  {
   "cell_type": "markdown",
   "id": "dd03b7bd",
   "metadata": {},
   "source": [
    "<font color='##1589FF'>As 1-TOM receiver assumes that the sender tries to replicate the move of the receiver in the same situation previously encountered (e.g., sender moved up and right, and receiver stayed in the middle), the 0-order sender's belief and 1-order receiver's belief matches.\n",
    "\n",
    "In contrast, as 0-TOM receiver does not assume that the sender will make their moves based on the receiver's previous move in the same situation but rather make identical moves for each goal, 0-TOM receiver tries to avoid any previously failed moves that were made in the same situation (e.g., if in the previously encountered situation the sender moved up and left, the receiver stayed in the middle, and it ended up in error, 0-TOM receiver will try to avoid staying in the center, while 1-TOM receiver will stay in the center assuming that the sender knows how I moved when he made the move).<font>\n",
    "\n"
   ]
  },
  {
   "cell_type": "markdown",
   "id": "c2d879ef",
   "metadata": {},
   "source": [
    "<font color = \"orange\">\n",
    "Correct\n",
    "<font>"
   ]
  },
  {
   "cell_type": "markdown",
   "id": "10bbcc9d",
   "metadata": {},
   "source": [
    "**Exercise 2:**\n",
    "\n",
    "Select the following settings:\n",
    "- Sender Theory of mind: Second-order\n",
    "- Sender prefers messages that: are short and visit receiver goal\n",
    "- Receiver Theory of mind: Second-order\n",
    "\n",
    "Explore 10 different randomly generated games (without actually playing them) by clicking the \"Clear beliefs\" button over and over. \n",
    "- For each game:\n",
    "    - look at each of the sender's possible messages:\n",
    "        - and check for the Zero-order and First-order sender whether there are any messages that narrow down the number of possible locations in the grid that this sender predicts the receiver would go to (i.e., such that there are less than 9 squares with an orange circle in them)\n",
    "\n",
    "**Note:** To answer this question, do not actually play through any of the games, but instead just keep pressing the \"Clear beliefs\" button. This allows you to inspect the beliefs/predictions of the different ToM-order agents *before* they have established any communication history with each other.\n",
    "      \n",
    "**a)** Across the 10 games you explored, did you find any example where the 0-order or 1st-order Sender has any message under consideration that corresponds to a more specific intrepretation belief than just that the Receiver could go anywhere?\n",
    "\n",
    "**b)** Given your answer to part a), try to explain why this is the case."
   ]
  },
  {
   "cell_type": "markdown",
   "id": "cd67f2a7",
   "metadata": {},
   "source": [
    "<font color='##1589FF'>a) I didn't find any messages that narrow down the number of possible locations in the grid that this sender predicts the receiver would go to.\n",
    "\n",
    "b) I believe this is because 0-order nor 1-order sender assumes that the receiver doesn't have a mental state about the sender and make predictions only based on moves in the previous turns.<font>"
   ]
  },
  {
   "cell_type": "markdown",
   "id": "662574ea",
   "metadata": {},
   "source": [
    "<font color = \"orange\">\n",
    "Correct\n",
    "<font>"
   ]
  },
  {
   "cell_type": "markdown",
   "id": "6f7f331f",
   "metadata": {},
   "source": [
    "**Exercise 3:**\n",
    "\n",
    "**a)** Let's run some simulations to see if we find results that are consistent with Tables 1 and 2 from de Weerd et al. (2015).\n",
    "For each of the following settings, play through 10 games, and record the number of successes out of 10 games in the tables below (Table 1 for Setting 1; and Table 2 for Setting 2). You can let the simulation run by itself by simply pressing the \"Start\" button and then pressing the \"Stop\" button after 10 games have been played (i.e., when the scores for \"Successes\" and \"Errors\" add up to 10).\n",
    "Then write down whether these results are in line with those of de Weerd et al. (2015) or not. Explain why. \n",
    "\n",
    "**Setting 1 (Table 1)**:\n",
    "- Set \"Sender prefers messages that:\" to \"are short\":\n",
    "    - Sender: $ToM_{1}$ with Receiver: $ToM_{1}$     - 10 games\n",
    "    - Sender: $ToM_{1}$ with Receiver: $ToM_{2}$     - 10 games\n",
    "    - Sender: $ToM_{2}$ with Receiver: $ToM_{1}$     - 10 games\n",
    "    - Sender: $ToM_{2}$ with Receiver: $ToM_{2}$     - 10 games\n",
    "\n",
    "\n",
    "**Setting 2 (Table 2)**:\n",
    "- Set \"Sender prefers messages that:\" to \"are short and visit receiver goal\":\n",
    "    - Sender: $ToM_{1}$ with Receiver: $ToM_{1}$     - 10 games\n",
    "    - Sender: $ToM_{1}$ with Receiver: $ToM_{2}$     - 10 games\n",
    "    - Sender: $ToM_{2}$ with Receiver: $ToM_{1}$     - 10 games\n",
    "    - Sender: $ToM_{2}$ with Receiver: $ToM_{2}$     - 10 games\n",
    "\n",
    "\n",
    "Table 1. When Sender prefers messages that are short\n",
    "\n",
    "|          |      |**Receiver**|      |\n",
    "|----------|------|------------|------|\n",
    "|          |      | ToM1       | ToM2 |\n",
    "|**Sender**| ToM1 |      8     |   9  |\n",
    "|          | ToM2 |      8     |   9  |\n",
    "\n",
    "\n",
    "\n",
    "Table 2. When Sender prefers messages that are short **and** visit receiver goal\n",
    "\n",
    "|          |      |**Receiver**|      |\n",
    "|----------|------|------------|------|\n",
    "|          |      | ToM1       | ToM2 |\n",
    "|**Sender**| ToM1 |     6      |   2  |\n",
    "|          | ToM2 |     5      |   0  |\n",
    "\n",
    "\n",
    "After you've filled out the tables, write down whether these results are in line with those of de Weerd et al. (2015) or not. Explain why. \n",
    "\n",
    "\n",
    "**b)** Why does the preference for sending messages that visit the receiver's goal location not fall out of being a $ToM_{2}$ sender automatically? Shouldn't any $ToM_{2}$ sender predict that a receiver is more likely to understand their communicative intention if their message passes through the goal location?\n",
    "If not, why not?"
   ]
  },
  {
   "cell_type": "markdown",
   "id": "df2d098a",
   "metadata": {},
   "source": [
    "<font color='##1589FF'>a) The results are in line with those of de Weerd et al. (2015) in the way that the number of errors in Seeting 2 (short & visit receiver goal) is lower than in Setting 1 (short). However, the number of errors for \"2-ToM sender and 1-ToM receiver interaction in setting 1\", \"1-ToM sender and 2-ToM receiver interaction in setting 1\", and \"2-ToM sender and 1-ToM receiver interaction in setting 2\" are higher than the number of errors observed in the paper for corresponding interactions.\n",
    "\n",
    "b) Although any 2-ToM sender should indeed predict that a receiver is more likely to understand their message passes through the goal location, I believe it does not necessarily automatically fall out of being a 2-ToM sender. For instance, 2-ToM sender could assume that 1-ToM receiver may think that the sender is not allowed to visit the receiver's goal and is trying to send message based on the order of movements (e.g., ul vs. lu).<font>"
   ]
  },
  {
   "cell_type": "markdown",
   "id": "aa9d844a",
   "metadata": {},
   "source": [
    "<font color = \"orange\">\n",
    "You provide a clear summary of the tables. How do the agents compare to each other? E.g., does the 2-ToM sender do better with a 1-ToM receiver than with a 2-ToM receiver? How does that compare to the tables in de Weerd et al?\n",
    "<br>\n",
    "<br>\n",
    "b: interesting line of thinking! I don't think it is something that is included in these models though. Additionally, the answer we were also looking for lies in thinking of what makes up the 2-ToM Sender's beliefs. As these beliefs are based on lower-order agents, these lower order agents need to have the bias for passing through a receiver's goal added for it to also be in the chain of reasoning for that 2-ToM Sender.\n",
    "<font>"
   ]
  },
  {
   "cell_type": "markdown",
   "id": "74d04f97",
   "metadata": {},
   "source": [
    "**Exercise 4:**\n",
    "\n",
    "**a)** Study Table 1 (/Figure 3) and Table 2 (/Figure 4) in de Weerd et al. (2015). Is it always the case that agent pairs are more succesful when the Receiver has an accurate model of the Sender, or, in other words, when the Receiver knows the actual generative model that produces the Sender's behaviour? (e.g., when a $ToM_{1}$ sender interacts with a $ToM_{2}$ receiver, etc.)? If not, try to explain why not.\n",
    "\n",
    "**b)** What about the other way around? Is it always the case that agent pairs are more succesful when the Sender has an accurate model of the receiver? If not, try to explain why not."
   ]
  },
  {
   "cell_type": "markdown",
   "id": "9741afc8",
   "metadata": {},
   "source": [
    "<font color='##1589FF'>a) It seems to be always the case that the receiver having an accurate model of the sender (i.e., interaction between 1-ToM sender & 2-ToM receiver and between 0-ToM sender & 1-ToM receiver) leads to more successful communication. (I wasn't sure the tables include the cases where k-ToM receiver assumes the sender to have the same order of ToM (i.e., k-ToM), so I made an assumption based on the example that this is not the case).\n",
    "\n",
    "b) The results suggest that sender having an accurate model of the receiver (i.e., interaction between 1-ToM sender & 0-ToM receiver and 2-ToM sender & 1-ToM receiver) doesn't always result in more successful communication. In particular, 2-ToM sender benefits from knowing that the receiver has a first-order theory of mind, whereas 1-ToM sender does not benefit from know that the receiver has a zero-order theory of mind. This asymmetry might suggest that in order for more successful communication, the receiver needs to have a first-order theory of mind or higher.<font>"
   ]
  },
  {
   "cell_type": "markdown",
   "id": "fa01310f",
   "metadata": {},
   "source": [
    "<font color = \"orange\">\n",
    "Correct. In response to your comment: by definition of ToM held in this paper the agents can't assume that the other has the same order Theory of Mind.\n",
    "<br>\n",
    "<br>\n",
    "b) good hypothesising about the possible causes for the case that is an exception!\n",
    "<font>"
   ]
  },
  {
   "cell_type": "markdown",
   "id": "2a51c628",
   "metadata": {},
   "source": [
    "**Exercise 5:**\n",
    "\n",
    "**a)** Further on Exercise 4: Would it be possible to define a model of different orders of $ToM$ reasoning like the one in de Weerd et al. (2015) (or the one in Waade et al., 2022), where instead of one agent reasoning about another agent being one order lower in terms of theory of mind, both agents assume that their partner/opponent has the *same* order of ToM as themselves? (I.e., where the two agents are symmetrical in terms of theory of mind?)\n",
    "\n",
    "It may help to represent your model in the form of a diagram that shows the chain of reasoning for the Sender and Receiver agent, and in what type of agent that chain of reasoning 'bottoms out'. You can create a diagram in whichever way suits you, and include it here as an image, using the following command in a markdown text cell:\n",
    "![test](test_image.jpeg)\n",
    "\n",
    "**b)** If you came up with an answer to part **a)**: In your model, do both agents have an accurate model of the other? I.e., do they know the actual generative model that produces the other agent's behaviour?"
   ]
  },
  {
   "cell_type": "markdown",
   "id": "46478b27",
   "metadata": {},
   "source": [
    "<font color='##1589FF'>Unfortunately, I couldn't come up with a solution for this exercise, but I feel like generating a model where both agents assume that their partner has the same order of ToM will end up in infinite recursion.<font>"
   ]
  },
  {
   "cell_type": "markdown",
   "id": "898b85c7",
   "metadata": {},
   "source": [
    "<font color = \"orange\">\n",
    "Good intuition! What can help in such a case, as hinted at in the exercise description, is to draw out a diagram where you can visually see the different options, and how such reasoning would work.\n",
    "<font>"
   ]
  },
  {
   "cell_type": "markdown",
   "id": "fce6e0e4",
   "metadata": {},
   "source": [
    "**BONUS Exercise 6 (only if you have time left):**\n",
    "\n",
    "Now, select the following settings:\n",
    "\n",
    "- Sender Theory of mind: Human input\n",
    "- Sender prefers messages that: are short and visit receiver goal\n",
    "- Receiver Theory of mind: Second-order\n",
    "\n",
    "Setting the Sender to \"Human input\" allows you to send a message manually, using the arrow keys, whenever it's the Sender's turn. \n",
    "\n",
    "**a)** Play through 10 games with the 2nd-order ToM Receiver turn-by-turn, by pressing the \"Play turn\" button over and over, and providing input with the arrow keys whenever it's the Sender's turn to send a message. How many \"Successes\" did you manage to get within 10 games?\n",
    "\n",
    "**b)** Now change the Sender's preference to:\n",
    "\n",
    "- Sender prefers messages that: visit receiver goal\n",
    "\n",
    "Then click the \"Clear beliefs\" button to reset the Receiver's beliefs, and play another 10 games. How many \"Successes\" did you manage to get this time?\n",
    "\n",
    "**c)** Was it harder to predict the Receiver's behaviour in one of these settings than in the other? If so, try to explain what causes this."
   ]
  },
  {
   "cell_type": "markdown",
   "id": "73fbaf34",
   "metadata": {},
   "source": []
  }
 ],
 "metadata": {
  "kernelspec": {
   "display_name": "Python 3.9.12 64-bit",
   "language": "python",
   "name": "python3"
  },
  "language_info": {
   "codemirror_mode": {
    "name": "ipython",
    "version": 3
   },
   "file_extension": ".py",
   "mimetype": "text/x-python",
   "name": "python",
   "nbconvert_exporter": "python",
   "pygments_lexer": "ipython3",
   "version": "3.9.12"
  },
  "latex_envs": {
   "LaTeX_envs_menu_present": true,
   "autoclose": false,
   "autocomplete": true,
   "bibliofile": "biblio.bib",
   "cite_by": "apalike",
   "current_citInitial": 1,
   "eqLabelWithNumbers": true,
   "eqNumInitial": 1,
   "hotkeys": {
    "equation": "Ctrl-E",
    "itemize": "Ctrl-I"
   },
   "labels_anchors": false,
   "latex_user_defs": false,
   "report_style_numbering": false,
   "user_envs_cfg": false
  },
  "toc": {
   "base_numbering": 1,
   "nav_menu": {},
   "number_sections": true,
   "sideBar": true,
   "skip_h1_title": false,
   "title_cell": "Table of Contents",
   "title_sidebar": "Contents",
   "toc_cell": false,
   "toc_position": {},
   "toc_section_display": true,
   "toc_window_display": false
  },
  "varInspector": {
   "cols": {
    "lenName": 16,
    "lenType": 16,
    "lenVar": 40
   },
   "kernels_config": {
    "python": {
     "delete_cmd_postfix": "",
     "delete_cmd_prefix": "del ",
     "library": "var_list.py",
     "varRefreshCmd": "print(var_dic_list())"
    },
    "r": {
     "delete_cmd_postfix": ") ",
     "delete_cmd_prefix": "rm(",
     "library": "var_list.r",
     "varRefreshCmd": "cat(var_dic_list()) "
    }
   },
   "types_to_exclude": [
    "module",
    "function",
    "builtin_function_or_method",
    "instance",
    "_Feature"
   ],
   "window_display": false
  },
  "vscode": {
   "interpreter": {
    "hash": "aee8b7b246df8f9039afb4144a1f6fd8d2ca17a180786b69acc140d282b71a49"
   }
  }
 },
 "nbformat": 4,
 "nbformat_minor": 5
}

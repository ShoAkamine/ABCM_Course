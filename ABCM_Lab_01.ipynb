{
 "cells": [
  {
   "cell_type": "code",
   "execution_count": 5,
   "id": "9e0e2260",
   "metadata": {
    "ExecuteTime": {
     "end_time": "2022-09-20T00:22:14.262087Z",
     "start_time": "2022-09-20T00:22:10.264201Z"
    }
   },
   "outputs": [
    {
     "name": "stdout",
     "output_type": "stream",
     "text": [
      "Requirement already satisfied: tomsup in /Users/U968195/anaconda3/lib/python3.7/site-packages (1.1.7)\n",
      "Requirement already satisfied: numpy>=1.2.4 in /Users/U968195/anaconda3/lib/python3.7/site-packages (from tomsup) (1.21.5)\n",
      "Requirement already satisfied: matplotlib>=3.4.2 in /Users/U968195/anaconda3/lib/python3.7/site-packages (from tomsup) (3.4.2)\n",
      "Requirement already satisfied: seaborn>=0.11.1 in /Users/U968195/anaconda3/lib/python3.7/site-packages (from tomsup) (0.11.2)\n",
      "Requirement already satisfied: wasabi<0.10.0,>=0.8.2 in /Users/U968195/anaconda3/lib/python3.7/site-packages (from tomsup) (0.9.1)\n",
      "Requirement already satisfied: pandas>=1.2.3 in /Users/U968195/anaconda3/lib/python3.7/site-packages (from tomsup) (1.3.5)\n",
      "Requirement already satisfied: joblib>=1.0.1 in /Users/U968195/anaconda3/lib/python3.7/site-packages (from tomsup) (1.1.0)\n",
      "Requirement already satisfied: scipy>=1.6.3 in /Users/U968195/anaconda3/lib/python3.7/site-packages (from tomsup) (1.7.1)\n",
      "Requirement already satisfied: kiwisolver>=1.0.1 in /Users/U968195/anaconda3/lib/python3.7/site-packages (from matplotlib>=3.4.2->tomsup) (1.4.2)\n",
      "Requirement already satisfied: pyparsing>=2.2.1 in /Users/U968195/anaconda3/lib/python3.7/site-packages (from matplotlib>=3.4.2->tomsup) (3.0.4)\n",
      "Requirement already satisfied: python-dateutil>=2.7 in /Users/U968195/anaconda3/lib/python3.7/site-packages (from matplotlib>=3.4.2->tomsup) (2.8.2)\n",
      "Requirement already satisfied: cycler>=0.10 in /Users/U968195/anaconda3/lib/python3.7/site-packages (from matplotlib>=3.4.2->tomsup) (0.11.0)\n",
      "Requirement already satisfied: pillow>=6.2.0 in /Users/U968195/anaconda3/lib/python3.7/site-packages (from matplotlib>=3.4.2->tomsup) (9.0.1)\n",
      "Requirement already satisfied: pytz>=2017.3 in /Users/U968195/anaconda3/lib/python3.7/site-packages (from pandas>=1.2.3->tomsup) (2022.1)\n",
      "Requirement already satisfied: typing-extensions in /Users/U968195/anaconda3/lib/python3.7/site-packages (from kiwisolver>=1.0.1->matplotlib>=3.4.2->tomsup) (4.1.1)\n",
      "Requirement already satisfied: six>=1.5 in /Users/U968195/anaconda3/lib/python3.7/site-packages (from python-dateutil>=2.7->matplotlib>=3.4.2->tomsup) (1.16.0)\n"
     ]
    }
   ],
   "source": [
    "!pip install tomsup"
   ]
  },
  {
   "cell_type": "code",
   "execution_count": 6,
   "id": "f54c669e",
   "metadata": {
    "ExecuteTime": {
     "end_time": "2022-09-20T00:22:16.654869Z",
     "start_time": "2022-09-20T00:22:16.650271Z"
    }
   },
   "outputs": [],
   "source": [
    "import tomsup as ts\n",
    "import numpy as np\n",
    "import time"
   ]
  },
  {
   "cell_type": "markdown",
   "id": "f39feb53",
   "metadata": {},
   "source": [
    "# Exercise 01:\n",
    "\n",
    "Use the command ```help(ts.PayoffMatrix)``` to explore what Game Theory games are pre-specified in the tomsup package. Print and investigate each of these pay-off matrices. For each one: Write down whether they are competitive or cooperative in nature. Also explain why."
   ]
  },
  {
   "cell_type": "markdown",
   "id": "9d3af986",
   "metadata": {},
   "source": [
    "## Envisioned answer to exercise 01:"
   ]
  },
  {
   "cell_type": "code",
   "execution_count": 7,
   "id": "ee5125a5",
   "metadata": {
    "ExecuteTime": {
     "end_time": "2022-09-20T00:22:18.609813Z",
     "start_time": "2022-09-20T00:22:18.587707Z"
    }
   },
   "outputs": [
    {
     "name": "stdout",
     "output_type": "stream",
     "text": [
      "Help on class PayoffMatrix in module tomsup.payoffmatrix:\n",
      "\n",
      "class PayoffMatrix(builtins.object)\n",
      " |  PayoffMatrix(name: str, predefined: Union[<built-in function array>, NoneType] = None)\n",
      " |  \n",
      " |  A class of 2 by 2 payoff matrices.\n",
      " |  \n",
      " |  Currently include the following games:\n",
      " |  The staghunt game: 'staghunt',\n",
      " |  The matching pennies game (coop and competive): 'penny_competive', 'penny_cooperative',\n",
      " |  The party dilemma: 'party',\n",
      " |  The Battle of the sexes: 'sexes',\n",
      " |  The chicken game: 'chicken',\n",
      " |  The deadlock: 'deadlock',\n",
      " |  The prisoners dilemma: 'prisoners_dilemma'.\n",
      " |  \n",
      " |  For custom payoff matrix supply a 2x2x2 numpy array to the predefined argument.\n",
      " |  \n",
      " |  Examples:\n",
      " |      >>> import tomsup as ts\n",
      " |      >>> staghunt = ts.PayoffMatrix(name=\"staghunt\")\n",
      " |      >>> staghunt.payoff(action_agent0=1, action_agent1=1, agent=0)\n",
      " |      5\n",
      " |      >>> staghunt.payoff(action_agent0=1, action_agent1=0, agent=0)\n",
      " |      0\n",
      " |      >>> staghunt.payoff(action_agent0=0, action_agent1=1, agent=0)\n",
      " |      3\n",
      " |      >>> chicken = ts.PayoffMatrix(name=\"chicken\")\n",
      " |      >>> chicken.payoff(0, 1, 0)\n",
      " |      -1\n",
      " |      >>> dead = ts.PayoffMatrix(name=\"deadlock\")\n",
      " |      >>> dead.payoff(1, 0, 1)\n",
      " |      0\n",
      " |      >>> sexes = ts.PayoffMatrix(name=\"sexes\")\n",
      " |      >>> sexes.payoff(1, 1, 0)\n",
      " |      5\n",
      " |      >>> custom = ts.PayoffMatrix(name=\"custom\", np.array(([(10, 0), (0, 5)],\n",
      " |                                                      [(5, 0), (0, 10)])))\n",
      " |  \n",
      " |  Methods defined here:\n",
      " |  \n",
      " |  __call__(self)\n",
      " |      Call self as a function.\n",
      " |  \n",
      " |  __init__(self, name: str, predefined: Union[<built-in function array>, NoneType] = None)\n",
      " |      Args:\n",
      " |          name (str): The name of the either predefined matrix or your custom matrix.\n",
      " |              Currently include the following games:\n",
      " |              The staghunt game ('staghunt'),\n",
      " |              the matching pennies game ('penny_competive', 'penny_cooperative'),\n",
      " |              the party dilemma ('party'),\n",
      " |              the Battle of the sexes ('sexes'), the chicken game ('chicken'),\n",
      " |              the deadlock ('deadlock'), nad the prisoners dilemma ('prisoners_dilemma').\n",
      " |          predefined (Optional[np.array], optional): A custom 2x2x2 matrix. Defaults to None.\n",
      " |  \n",
      " |  __str__(self)\n",
      " |      Return str(self).\n",
      " |  \n",
      " |  get_matrix(self) -> <built-in function array>\n",
      " |      Returns:\n",
      " |          np.array: The payoff matrix\n",
      " |  \n",
      " |  payoff(self, choice_agent0: int, choice_agent1: int, agent: int = 0) -> float\n",
      " |      Args:\n",
      " |          choice_agent0 (int): choice of agent 0\n",
      " |          choice_agent1 (int): choice of agent 1\n",
      " |          agent (int, optional): The perspective agent which should get the payoff, either 0 or 1.\n",
      " |              Defaults to 0.\n",
      " |      \n",
      " |      Returns:\n",
      " |          float: The payoff of the agent\n",
      " |  \n",
      " |  ----------------------------------------------------------------------\n",
      " |  Data descriptors defined here:\n",
      " |  \n",
      " |  __dict__\n",
      " |      dictionary for instance variables (if defined)\n",
      " |  \n",
      " |  __weakref__\n",
      " |      list of weak references to the object (if defined)\n",
      "\n"
     ]
    }
   ],
   "source": [
    "help(ts.PayoffMatrix)"
   ]
  },
  {
   "cell_type": "code",
   "execution_count": 8,
   "id": "432c6d4b",
   "metadata": {
    "ExecuteTime": {
     "end_time": "2022-09-20T00:22:19.625573Z",
     "start_time": "2022-09-20T00:22:19.617932Z"
    }
   },
   "outputs": [
    {
     "name": "stdout",
     "output_type": "stream",
     "text": [
      "<Class PayoffMatrix, Name = staghunt> \n",
      "The payoff matrix of agent 0\n",
      "       |  Choice agent 1\n",
      "       |   | 0 | 1 |\n",
      "       | --------- |\n",
      "Choice | 0 | 3 | 3 |\n",
      "agent 0| 1 | 0 | 5 |\n",
      " \n",
      "The payoff matrix of agent 1\n",
      "       |  Choice agent 1\n",
      "       |   | 0 | 1 |\n",
      "       | --------- |\n",
      "Choice | 0 | 3 | 0 |\n",
      "agent 0| 1 | 3 | 5 |\n",
      " \n",
      "<Class PayoffMatrix, Name = penny_competitive> \n",
      "The payoff matrix of agent 0\n",
      "       |  Choice agent 1\n",
      "       |    |  0 |  1 |\n",
      "       | ------------ |\n",
      "Choice |  0 | -1 |  1 |\n",
      "agent 0|  1 |  1 | -1 |\n",
      " \n",
      "The payoff matrix of agent 1\n",
      "       |  Choice agent 1\n",
      "       |    |  0 |  1 |\n",
      "       | ------------ |\n",
      "Choice |  0 |  1 | -1 |\n",
      "agent 0|  1 | -1 |  1 |\n",
      " \n",
      "<Class PayoffMatrix, Name = penny_cooperative> \n",
      "The payoff matrix of agent 0\n",
      "       |  Choice agent 1\n",
      "       |    |  0 |  1 |\n",
      "       | ------------ |\n",
      "Choice |  0 |  1 | -1 |\n",
      "agent 0|  1 | -1 |  1 |\n",
      " \n",
      "The payoff matrix of agent 1\n",
      "       |  Choice agent 1\n",
      "       |    |  0 |  1 |\n",
      "       | ------------ |\n",
      "Choice |  0 |  1 | -1 |\n",
      "agent 0|  1 | -1 |  1 |\n",
      " \n",
      "<Class PayoffMatrix, Name = party> \n",
      "The payoff matrix of agent 0\n",
      "       |  Choice agent 1\n",
      "       |    |  0 |  1 |\n",
      "       | ------------ |\n",
      "Choice |  0 |  5 |  0 |\n",
      "agent 0|  1 |  0 | 10 |\n",
      " \n",
      "The payoff matrix of agent 1\n",
      "       |  Choice agent 1\n",
      "       |    |  0 |  1 |\n",
      "       | ------------ |\n",
      "Choice |  0 |  5 |  0 |\n",
      "agent 0|  1 |  0 | 10 |\n",
      " \n",
      "<Class PayoffMatrix, Name = sexes> \n",
      "The payoff matrix of agent 0\n",
      "       |  Choice agent 1\n",
      "       |    |  0 |  1 |\n",
      "       | ------------ |\n",
      "Choice |  0 | 10 |  0 |\n",
      "agent 0|  1 |  0 |  5 |\n",
      " \n",
      "The payoff matrix of agent 1\n",
      "       |  Choice agent 1\n",
      "       |    |  0 |  1 |\n",
      "       | ------------ |\n",
      "Choice |  0 |  5 |  0 |\n",
      "agent 0|  1 |  0 | 10 |\n",
      " \n",
      "<Class PayoffMatrix, Name = chicken> \n",
      "The payoff matrix of agent 0\n",
      "       |  Choice agent 1\n",
      "       |       |     0 |     1 |\n",
      "       | --------------------- |\n",
      "Choice |     0 | -1000 |    -1 |\n",
      "agent 0|     1 |     1 |     0 |\n",
      " \n",
      "The payoff matrix of agent 1\n",
      "       |  Choice agent 1\n",
      "       |       |     0 |     1 |\n",
      "       | --------------------- |\n",
      "Choice |     0 | -1000 |     1 |\n",
      "agent 0|     1 |    -1 |     0 |\n",
      " \n",
      "<Class PayoffMatrix, Name = deadlock> \n",
      "The payoff matrix of agent 0\n",
      "       |  Choice agent 1\n",
      "       |   | 0 | 1 |\n",
      "       | --------- |\n",
      "Choice | 0 | 1 | 0 |\n",
      "agent 0| 1 | 3 | 2 |\n",
      " \n",
      "The payoff matrix of agent 1\n",
      "       |  Choice agent 1\n",
      "       |   | 0 | 1 |\n",
      "       | --------- |\n",
      "Choice | 0 | 1 | 3 |\n",
      "agent 0| 1 | 0 | 2 |\n",
      " \n",
      "<Class PayoffMatrix, Name = prisoners_dilemma> \n",
      "The payoff matrix of agent 0\n",
      "       |  Choice agent 1\n",
      "       |   | 0 | 1 |\n",
      "       | --------- |\n",
      "Choice | 0 | 1 | 5 |\n",
      "agent 0| 1 | 0 | 3 |\n",
      " \n",
      "The payoff matrix of agent 1\n",
      "       |  Choice agent 1\n",
      "       |   | 0 | 1 |\n",
      "       | --------- |\n",
      "Choice | 0 | 1 | 0 |\n",
      "agent 0| 1 | 5 | 3 |\n",
      " \n"
     ]
    }
   ],
   "source": [
    "print(ts.PayoffMatrix(name='staghunt'))\n",
    "\n",
    "print(ts.PayoffMatrix(name='penny_competitive'))\n",
    "\n",
    "print(ts.PayoffMatrix(name='penny_cooperative'))\n",
    "\n",
    "print(ts.PayoffMatrix(name='party'))\n",
    "\n",
    "print(ts.PayoffMatrix(name='sexes'))\n",
    "\n",
    "print(ts.PayoffMatrix(name='chicken'))\n",
    "\n",
    "print(ts.PayoffMatrix(name='deadlock'))\n",
    "\n",
    "print(ts.PayoffMatrix(name='prisoners_dilemma'))\n"
   ]
  },
  {
   "cell_type": "markdown",
   "id": "185195c6",
   "metadata": {},
   "source": [
    "- Staghunt is cooperative because the cell in the pay-off matrix where the two agents get the highest pay-off is the same for both agents (i.e., when they both choose action 1.\n",
    "\n",
    "- Penny competitive is competitive in nature because the pay-off matrices for the two agents are each others' mirror image.\n",
    "\n",
    "- Penny cooperative is cooperative in nature because the pay-off matrices of the two agents are identical.\n",
    "\n",
    "- Party is cooperative because the pay-off matrices of the two agents are identical\n",
    "\n",
    "- Sexes is competitive in nature, because the cells in which the agents get the highest pay-off are each other's mirror image\n",
    "\n",
    "- Chicken is competitive because the cells in which the agents get the highest pay-off are each other's mirror image. However, there is also a very high cost for both agents if neither of them \"yields\" (i.e., chooses action 1)\n",
    "\n",
    "- Deadlock is competitive because the cells in which the agents get the highest pay-off are each other's mirror image\n",
    "\n",
    "- Prisoner's dilemma is competitive because the cells in which the agents get the highest pay-off are each other's mirror image"
   ]
  },
  {
   "cell_type": "code",
   "execution_count": null,
   "id": "ce47396b",
   "metadata": {},
   "outputs": [],
   "source": []
  },
  {
   "cell_type": "code",
   "execution_count": null,
   "id": "e0fb9784",
   "metadata": {},
   "outputs": [],
   "source": []
  }
 ],
 "metadata": {
  "kernelspec": {
   "display_name": "Python 3 (ipykernel)",
   "language": "python",
   "name": "python3"
  },
  "language_info": {
   "codemirror_mode": {
    "name": "ipython",
    "version": 3
   },
   "file_extension": ".py",
   "mimetype": "text/x-python",
   "name": "python",
   "nbconvert_exporter": "python",
   "pygments_lexer": "ipython3",
   "version": "3.7.4"
  },
  "latex_envs": {
   "LaTeX_envs_menu_present": true,
   "autoclose": false,
   "autocomplete": true,
   "bibliofile": "biblio.bib",
   "cite_by": "apalike",
   "current_citInitial": 1,
   "eqLabelWithNumbers": true,
   "eqNumInitial": 1,
   "hotkeys": {
    "equation": "Ctrl-E",
    "itemize": "Ctrl-I"
   },
   "labels_anchors": false,
   "latex_user_defs": false,
   "report_style_numbering": false,
   "user_envs_cfg": false
  },
  "toc": {
   "base_numbering": 1,
   "nav_menu": {},
   "number_sections": true,
   "sideBar": true,
   "skip_h1_title": false,
   "title_cell": "Table of Contents",
   "title_sidebar": "Contents",
   "toc_cell": false,
   "toc_position": {},
   "toc_section_display": true,
   "toc_window_display": false
  },
  "varInspector": {
   "cols": {
    "lenName": 16,
    "lenType": 16,
    "lenVar": 40
   },
   "kernels_config": {
    "python": {
     "delete_cmd_postfix": "",
     "delete_cmd_prefix": "del ",
     "library": "var_list.py",
     "varRefreshCmd": "print(var_dic_list())"
    },
    "r": {
     "delete_cmd_postfix": ") ",
     "delete_cmd_prefix": "rm(",
     "library": "var_list.r",
     "varRefreshCmd": "cat(var_dic_list()) "
    }
   },
   "types_to_exclude": [
    "module",
    "function",
    "builtin_function_or_method",
    "instance",
    "_Feature"
   ],
   "window_display": false
  }
 },
 "nbformat": 4,
 "nbformat_minor": 5
}
